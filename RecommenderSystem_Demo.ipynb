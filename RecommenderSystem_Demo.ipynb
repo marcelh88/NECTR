{
 "cells": [
  {
   "cell_type": "code",
   "execution_count": 1,
   "metadata": {},
   "outputs": [],
   "source": [
    "import pickle\n",
    "import numpy as np\n",
    "import pandas as pd\n",
    "import json\n",
    "import itertools\n",
    "import csv\n",
    "from sklearn.decomposition import PCA\n",
    "import matplotlib.pyplot as plt\n",
    "import tensorflow as tf\n",
    "import logging \n",
    "\n",
    "from datahelper import DataHelper\n",
    "from cross_validation import CrossValidation\n",
    "import models"
   ]
  },
  {
   "cell_type": "code",
   "execution_count": 2,
   "metadata": {},
   "outputs": [],
   "source": [
    "# Suppress TensorFlow messages and warnings\n",
    "tf.logging.set_verbosity(tf.logging.ERROR)\n",
    "\n",
    "# Suppress Matplotlib messages\n",
    "mpl_logger = logging.getLogger('matplotlib') \n",
    "mpl_logger.setLevel(logging.ERROR) "
   ]
  },
  {
   "cell_type": "code",
   "execution_count": 3,
   "metadata": {},
   "outputs": [],
   "source": [
    "PATH_TO_DATA = './data/'\n",
    "PATH_TO_RESULTS = PATH_TO_DATA + 'results/'"
   ]
  },
  {
   "cell_type": "markdown",
   "metadata": {},
   "source": [
    "### Model creation and training"
   ]
  },
  {
   "cell_type": "markdown",
   "metadata": {},
   "source": [
    "    1. Define model parameters. \n",
    "\n",
    "Parameters that can be set include parameters that control the sampling (e.g., batch size, ratio of negative to positive samples), hyperparameters for cross validation (e.g., number of epochs, learning rate, regularization), and parameters specific to the model (e.g., hidden size/ number of latent dimensions). \n",
    "The list of all parameters can be found in `cross_validation.py`.\n",
    "\n",
    "Additionally, a range of values may be specified for each parameter and the cross validation pipeline will be run for all combinations of parameters."
   ]
  },
  {
   "cell_type": "code",
   "execution_count": 4,
   "metadata": {},
   "outputs": [],
   "source": [
    "model = models.NECTRModel\n",
    "\n",
    "parameters = [{'name': 'hidden_size', 'min': 15, 'max': 25, 'step': 5}, \n",
    "              {'name': 'n_epoch', 'value': 2},\n",
    "              {'name': 'nectr_n_epoch_completion', 'value': 2}]"
   ]
  },
  {
   "cell_type": "markdown",
   "metadata": {},
   "source": [
    "    2. Setup DataHelper utils"
   ]
  },
  {
   "cell_type": "code",
   "execution_count": 5,
   "metadata": {},
   "outputs": [],
   "source": [
    "DataHelper.setup(PATH_TO_DATA)"
   ]
  },
  {
   "cell_type": "markdown",
   "metadata": {},
   "source": [
    "    3. Setup cross validation"
   ]
  },
  {
   "cell_type": "code",
   "execution_count": 6,
   "metadata": {},
   "outputs": [],
   "source": [
    "cv = CrossValidation(datahelper=DataHelper, parameters=parameters)"
   ]
  },
  {
   "cell_type": "markdown",
   "metadata": {
    "collapsed": true
   },
   "source": [
    "    4. Run the cross validation pipeline"
   ]
  },
  {
   "cell_type": "code",
   "execution_count": 7,
   "metadata": {
    "scrolled": false
   },
   "outputs": [
    {
     "name": "stdout",
     "output_type": "stream",
     "text": [
      "----------------------------------------------------------------------\n",
      "Creating the model:  NECTR ...\n",
      "----------------------------------------------------------------------\n",
      "Splitting the dataset for cross-validation...\n",
      "Total number of triples in the dataset: 426710\n",
      "Number of features in the dataset: 185123 triples\n",
      "Number of solutions in the dataset: 241587 triples\n",
      "Training set (solutions): 168738 triples\n",
      "Training set (features): 185123 triples\n",
      "Validation set (solutions): 48290 triples\n",
      "Test set (solutions): 24559 triples\n",
      "----------------------------------------------------------------------\n",
      "Training the model using parameters:  {'hidden_size': 15, 'n_epoch': 2, 'nectr_n_epoch_completion': 2} ...\n",
      "Training the tensor factorization component (for the completion loss)...\n",
      "Epoch= 0 loss= 207733.027053833\n",
      "Epoch= 1 loss= 95044.87618541718\n",
      "Training both tensor factorization and neural network components (overall completion and recommendation loss)...\n",
      "Epoch= 0 loss= 4417658.910644531\n",
      "Epoch= 1 loss= 958856.4582519531\n",
      "Time taken for training: 0.06857829325728947 (in hours)\n",
      "Loss after 2 epochs = 958856.4582519531\n",
      "\n",
      "Testing on validation set... MRR after 2 epochs = 0.1771078109741211\n",
      "Training completed.\n",
      "----------------------------------------------------------------------\n",
      "Creating the model:  NECTR ...\n",
      "----------------------------------------------------------------------\n",
      "Splitting the dataset for cross-validation...\n",
      "Total number of triples in the dataset: 426710\n",
      "Number of features in the dataset: 185123 triples\n",
      "Number of solutions in the dataset: 241587 triples\n",
      "Training set (solutions): 168738 triples\n",
      "Training set (features): 185123 triples\n",
      "Validation set (solutions): 48290 triples\n",
      "Test set (solutions): 24559 triples\n",
      "----------------------------------------------------------------------\n",
      "Training the model using parameters:  {'hidden_size': 20, 'n_epoch': 2, 'nectr_n_epoch_completion': 2} ...\n",
      "Training the tensor factorization component (for the completion loss)...\n",
      "Epoch= 0 loss= 195067.31238937378\n",
      "Epoch= 1 loss= 92768.26957130432\n",
      "Training both tensor factorization and neural network components (overall completion and recommendation loss)...\n",
      "Epoch= 0 loss= 4519677.318115234\n",
      "Epoch= 1 loss= 966723.8137207031\n",
      "Time taken for training: 0.10173415773444705 (in hours)\n",
      "Loss after 2 epochs = 966723.8137207031\n",
      "\n",
      "Testing on validation set... MRR after 2 epochs = 0.1911105513572693\n",
      "Training completed.\n",
      "----------------------------------------------------------------------\n",
      "Creating the model:  NECTR ...\n",
      "----------------------------------------------------------------------\n",
      "Splitting the dataset for cross-validation...\n",
      "Total number of triples in the dataset: 426710\n",
      "Number of features in the dataset: 185123 triples\n",
      "Number of solutions in the dataset: 241587 triples\n",
      "Training set (solutions): 168738 triples\n",
      "Training set (features): 185123 triples\n",
      "Validation set (solutions): 48290 triples\n",
      "Test set (solutions): 24559 triples\n",
      "----------------------------------------------------------------------\n",
      "Training the model using parameters:  {'hidden_size': 25, 'n_epoch': 2, 'nectr_n_epoch_completion': 2} ...\n",
      "Training the tensor factorization component (for the completion loss)...\n",
      "Epoch= 0 loss= 189577.87771987915\n",
      "Epoch= 1 loss= 91201.06543540955\n",
      "Training both tensor factorization and neural network components (overall completion and recommendation loss)...\n",
      "Epoch= 0 loss= 3799714.6032714844\n",
      "Epoch= 1 loss= 992650.701171875\n",
      "Time taken for training: 0.06899643705950843 (in hours)\n",
      "Loss after 2 epochs = 992650.701171875\n",
      "\n",
      "Testing on validation set... MRR after 2 epochs = 0.17500150203704834\n",
      "Training completed.\n",
      "----------------------------------------------------------------------\n",
      "Choosing best model based on Mean reciprocal rank (in the filtered setting)...\n",
      "----------------------------------------------------------------------\n",
      "Testing the best model on test set...\n",
      "----------------------------------------------------------------------\n",
      "Evaluation results on the validation set:\n",
      " parameter                            {\"hidden_size\": 15, \"n_epoch\": 2, \"nectr_n_epoch_completion\": 2}  \\\n",
      "hits_top10_filtered                                                             0.28102                 \n",
      "hits_top10_in_category_filtered                                                0.376152                 \n",
      "hits_top10_in_category_raw                                                     0.376152                 \n",
      "hits_top10_perc_filtered                                                       0.815019                 \n",
      "hits_top10_perc_in_category_filtered                                           0.571907                 \n",
      "hits_top10_perc_in_category_raw                                                0.571907                 \n",
      "hits_top10_perc_raw                                                            0.810813                 \n",
      "hits_top10_raw                                                                 0.239309                 \n",
      "mean_rank_filtered                                                              208.409                 \n",
      "mean_rank_in_category_filtered                                                  21.0818                 \n",
      "mean_rank_in_category_raw                                                       21.0818                 \n",
      "mean_rank_raw                                                                   215.701                 \n",
      "median_rank_filtered                                                                 47                 \n",
      "median_rank_in_category_filtered                                                11.3333                 \n",
      "median_rank_in_category_raw                                                     11.3333                 \n",
      "median_rank_raw                                                                      53                 \n",
      "mrr_filtered                                                                   0.177108                 \n",
      "mrr_in_category_filtered                                                       0.354679                 \n",
      "mrr_in_category_raw                                                            0.354679                 \n",
      "mrr_raw                                                                        0.115021                 \n",
      "recall_filtered                       [0.5216917328677549, 0.6328113977191077, 0.704...                 \n",
      "recall_raw                            [0.5058053552420902, 0.6231989727252023, 0.698...                 \n",
      "\n",
      "parameter                            {\"hidden_size\": 20, \"n_epoch\": 2, \"nectr_n_epoch_completion\": 2}  \\\n",
      "hits_top10_filtered                                                            0.307483                 \n",
      "hits_top10_in_category_filtered                                                0.395014                 \n",
      "hits_top10_in_category_raw                                                     0.395014                 \n",
      "hits_top10_perc_filtered                                                       0.824395                 \n",
      "hits_top10_perc_in_category_filtered                                           0.615512                 \n",
      "hits_top10_perc_in_category_raw                                                0.615512                 \n",
      "hits_top10_perc_raw                                                            0.818787                 \n",
      "hits_top10_raw                                                                 0.262443                 \n",
      "mean_rank_filtered                                                              198.404                 \n",
      "mean_rank_in_category_filtered                                                  20.0709                 \n",
      "mean_rank_in_category_raw                                                       20.0709                 \n",
      "mean_rank_raw                                                                   205.681                 \n",
      "median_rank_filtered                                                                 40                 \n",
      "median_rank_in_category_filtered                                                11.3333                 \n",
      "median_rank_in_category_raw                                                     11.3333                 \n",
      "median_rank_raw                                                                      48                 \n",
      "mrr_filtered                                                                   0.191111                 \n",
      "mrr_in_category_filtered                                                       0.368022                 \n",
      "mrr_in_category_raw                                                            0.368022                 \n",
      "mrr_raw                                                                        0.124679                 \n",
      "recall_filtered                       [0.5368321075970308, 0.6425579334105666, 0.718...                 \n",
      "recall_raw                            [0.5190196928086174, 0.6327908253816292, 0.710...                 \n",
      "\n",
      "parameter                            {\"hidden_size\": 25, \"n_epoch\": 2, \"nectr_n_epoch_completion\": 2}  \n",
      "hits_top10_filtered                                                            0.269848                \n",
      "hits_top10_in_category_filtered                                                0.376329                \n",
      "hits_top10_in_category_raw                                                     0.376329                \n",
      "hits_top10_perc_filtered                                                       0.806607                \n",
      "hits_top10_perc_in_category_filtered                                           0.564354                \n",
      "hits_top10_perc_in_category_raw                                                0.564354                \n",
      "hits_top10_perc_raw                                                            0.800166                \n",
      "hits_top10_raw                                                                 0.228838                \n",
      "mean_rank_filtered                                                              214.262                \n",
      "mean_rank_in_category_filtered                                                   21.858                \n",
      "mean_rank_in_category_raw                                                        21.858                \n",
      "mean_rank_raw                                                                   221.519                \n",
      "median_rank_filtered                                                                 48                \n",
      "median_rank_in_category_filtered                                                11.3333                \n",
      "median_rank_in_category_raw                                                     11.3333                \n",
      "median_rank_raw                                                                      55                \n",
      "mrr_filtered                                                                   0.175002                \n",
      "mrr_in_category_filtered                                                       0.349256                \n",
      "mrr_in_category_raw                                                            0.349256                \n",
      "mrr_raw                                                                        0.115391                \n",
      "recall_filtered                       [0.5109963717925492, 0.6179143103547331, 0.692...                \n",
      "recall_raw                            [0.4973550709566963, 0.6087647566067955, 0.684...                \n",
      "----------------------------------------------------------------------\n",
      "Evaluation results on the test set:\n",
      " parameter                            {\"hidden_size\": 20, \"n_epoch\": 2, \"nectr_n_epoch_completion\": 2}\n",
      "hits_top10_filtered                                                            0.277849              \n",
      "hits_top10_in_category_filtered                                                 0.39157              \n",
      "hits_top10_in_category_raw                                                      0.39157              \n",
      "hits_top10_perc_filtered                                                       0.813505              \n",
      "hits_top10_perc_in_category_filtered                                           0.576262              \n",
      "hits_top10_perc_in_category_raw                                                0.576262              \n",
      "hits_top10_perc_raw                                                            0.808172              \n",
      "hits_top10_raw                                                                 0.235355              \n",
      "mean_rank_filtered                                                              205.451              \n",
      "mean_rank_in_category_filtered                                                  20.6298              \n",
      "mean_rank_in_category_raw                                                       20.6298              \n",
      "mean_rank_raw                                                                   212.769              \n",
      "median_rank_filtered                                                                 46              \n",
      "median_rank_in_category_filtered                                                11.3333              \n",
      "median_rank_in_category_raw                                                     11.3333              \n",
      "median_rank_raw                                                                      53              \n",
      "mrr_filtered                                                                   0.179406              \n",
      "mrr_in_category_filtered                                                       0.360978              \n",
      "mrr_in_category_raw                                                            0.360978              \n",
      "mrr_raw                                                                        0.115913              \n",
      "recall_filtered                       [0.5222244482673601, 0.6289308648283302, 0.701...              \n",
      "recall_raw                            [0.5055782365164492, 0.6191278993029925, 0.693...              \n"
     ]
    }
   ],
   "source": [
    "cv.run_pipeline(model, PATH_TO_RESULTS)"
   ]
  },
  {
   "cell_type": "markdown",
   "metadata": {},
   "source": [
    "### Intepretation of cross validation results"
   ]
  },
  {
   "cell_type": "markdown",
   "metadata": {},
   "source": [
    "    1. Load the results"
   ]
  },
  {
   "cell_type": "code",
   "execution_count": 8,
   "metadata": {},
   "outputs": [],
   "source": [
    "with open(PATH_TO_RESULTS + 'NECTR_results.pickle', 'rb') as fp:\n",
    "    results = pickle.load(fp, encoding='latin1')\n",
    "    \n",
    "metrics = [[results['best'], results['test']]]"
   ]
  },
  {
   "cell_type": "markdown",
   "metadata": {},
   "source": [
    "    2. Compare different experiments based on the metrics"
   ]
  },
  {
   "cell_type": "code",
   "execution_count": 9,
   "metadata": {},
   "outputs": [],
   "source": [
    "names = [\"mean_rank_raw\", \"median_rank_raw\", \"mrr_raw\", \"hits_top10_raw\", \"hits_top10_perc_raw\", \"histogram_perc_rank_raw\",\n",
    "             \"histogram_num_rank_raw\",\n",
    "             \"mean_rank_in_category_raw\", \"median_rank_in_category_raw\", \"mrr_in_category_raw\",\n",
    "             \"hits_top10_in_category_raw\", \"hits_top10_perc_in_category_raw\",\n",
    "             \"histogram_perc_rank_in_category_raw\", \"histogram_num_rank_in_category_raw\", \"mean_rank_filtered\",\n",
    "             \"median_rank_filtered\", \"mrr_filtered\", \"hits_top10_filtered\", \"hits_top10_perc_filtered\", \"histogram_perc_rank_filtered\",\n",
    "             \"histogram_num_rank_filtered\", \"mean_rank_in_category_filtered\", \"median_rank_in_category_filtered\",\n",
    "             \"mrr_in_category_filtered\", \"hits_top10_in_category_filtered\", \"hits_top10_perc_in_category_filtered\", \"histogram_perc_rank_in_category_filtered\",\n",
    "             \"histogram_num_rank_in_category_filtered\", \"recall_raw\", \"recall_filtered\"]\n",
    "\n",
    "histograms = [\"histogram_perc_rank_raw\", \"histogram_num_rank_raw\", \"histogram_perc_rank_in_category_raw\", \n",
    "              \"histogram_num_rank_in_category_raw\", \"histogram_perc_rank_filtered\", \"histogram_num_rank_filtered\", \n",
    "              \"histogram_perc_rank_in_category_filtered\", \"histogram_num_rank_in_category_filtered\"]"
   ]
  },
  {
   "cell_type": "code",
   "execution_count": 10,
   "metadata": {
    "scrolled": true
   },
   "outputs": [
    {
     "data": {
      "text/html": [
       "<div>\n",
       "<style scoped>\n",
       "    .dataframe tbody tr th:only-of-type {\n",
       "        vertical-align: middle;\n",
       "    }\n",
       "\n",
       "    .dataframe tbody tr th {\n",
       "        vertical-align: top;\n",
       "    }\n",
       "\n",
       "    .dataframe thead th {\n",
       "        text-align: right;\n",
       "    }\n",
       "</style>\n",
       "<table border=\"1\" class=\"dataframe\">\n",
       "  <thead>\n",
       "    <tr style=\"text-align: right;\">\n",
       "      <th></th>\n",
       "      <th>mrr_filtered</th>\n",
       "      <th>hits_top10_perc_filtered</th>\n",
       "      <th>hits_top10_filtered</th>\n",
       "      <th>mean_rank_filtered</th>\n",
       "      <th>median_rank_filtered</th>\n",
       "      <th>recall_filtered</th>\n",
       "      <th>mrr_raw</th>\n",
       "      <th>hits_top10_perc_raw</th>\n",
       "      <th>hits_top10_raw</th>\n",
       "      <th>mean_rank_raw</th>\n",
       "      <th>...</th>\n",
       "      <th>mrr_in_category_filtered</th>\n",
       "      <th>hits_top10_perc_in_category_filtered</th>\n",
       "      <th>hits_top10_in_category_filtered</th>\n",
       "      <th>mean_rank_in_category_filtered</th>\n",
       "      <th>median_rank_in_category_filtered</th>\n",
       "      <th>mrr_in_category_raw</th>\n",
       "      <th>hits_top10_perc_in_category_raw</th>\n",
       "      <th>hits_top10_in_category_raw</th>\n",
       "      <th>mean_rank_in_category_raw</th>\n",
       "      <th>median_rank_in_category_raw</th>\n",
       "    </tr>\n",
       "    <tr>\n",
       "      <th>parameter</th>\n",
       "      <th></th>\n",
       "      <th></th>\n",
       "      <th></th>\n",
       "      <th></th>\n",
       "      <th></th>\n",
       "      <th></th>\n",
       "      <th></th>\n",
       "      <th></th>\n",
       "      <th></th>\n",
       "      <th></th>\n",
       "      <th></th>\n",
       "      <th></th>\n",
       "      <th></th>\n",
       "      <th></th>\n",
       "      <th></th>\n",
       "      <th></th>\n",
       "      <th></th>\n",
       "      <th></th>\n",
       "      <th></th>\n",
       "      <th></th>\n",
       "      <th></th>\n",
       "    </tr>\n",
       "  </thead>\n",
       "  <tbody>\n",
       "    <tr>\n",
       "      <th>{\"hidden_size\": 20, \"n_epoch\": 2, \"nectr_n_epoch_completion\": 2}</th>\n",
       "      <td>0.179406</td>\n",
       "      <td>0.813505</td>\n",
       "      <td>0.277849</td>\n",
       "      <td>205.451441</td>\n",
       "      <td>46.0</td>\n",
       "      <td>[0.5222244482673601, 0.6289308648283302, 0.701...</td>\n",
       "      <td>0.115913</td>\n",
       "      <td>0.808172</td>\n",
       "      <td>0.235355</td>\n",
       "      <td>212.769376</td>\n",
       "      <td>...</td>\n",
       "      <td>0.360978</td>\n",
       "      <td>0.576262</td>\n",
       "      <td>0.39157</td>\n",
       "      <td>20.629762</td>\n",
       "      <td>11.333333</td>\n",
       "      <td>0.360978</td>\n",
       "      <td>0.576262</td>\n",
       "      <td>0.39157</td>\n",
       "      <td>20.629762</td>\n",
       "      <td>11.333333</td>\n",
       "    </tr>\n",
       "  </tbody>\n",
       "</table>\n",
       "<p>1 rows × 22 columns</p>\n",
       "</div>"
      ],
      "text/plain": [
       "                                                    mrr_filtered  \\\n",
       "parameter                                                          \n",
       "{\"hidden_size\": 20, \"n_epoch\": 2, \"nectr_n_epoc...      0.179406   \n",
       "\n",
       "                                                    hits_top10_perc_filtered  \\\n",
       "parameter                                                                      \n",
       "{\"hidden_size\": 20, \"n_epoch\": 2, \"nectr_n_epoc...                  0.813505   \n",
       "\n",
       "                                                    hits_top10_filtered  \\\n",
       "parameter                                                                 \n",
       "{\"hidden_size\": 20, \"n_epoch\": 2, \"nectr_n_epoc...             0.277849   \n",
       "\n",
       "                                                    mean_rank_filtered  \\\n",
       "parameter                                                                \n",
       "{\"hidden_size\": 20, \"n_epoch\": 2, \"nectr_n_epoc...          205.451441   \n",
       "\n",
       "                                                    median_rank_filtered  \\\n",
       "parameter                                                                  \n",
       "{\"hidden_size\": 20, \"n_epoch\": 2, \"nectr_n_epoc...                  46.0   \n",
       "\n",
       "                                                                                      recall_filtered  \\\n",
       "parameter                                                                                               \n",
       "{\"hidden_size\": 20, \"n_epoch\": 2, \"nectr_n_epoc...  [0.5222244482673601, 0.6289308648283302, 0.701...   \n",
       "\n",
       "                                                     mrr_raw  \\\n",
       "parameter                                                      \n",
       "{\"hidden_size\": 20, \"n_epoch\": 2, \"nectr_n_epoc...  0.115913   \n",
       "\n",
       "                                                    hits_top10_perc_raw  \\\n",
       "parameter                                                                 \n",
       "{\"hidden_size\": 20, \"n_epoch\": 2, \"nectr_n_epoc...             0.808172   \n",
       "\n",
       "                                                    hits_top10_raw  \\\n",
       "parameter                                                            \n",
       "{\"hidden_size\": 20, \"n_epoch\": 2, \"nectr_n_epoc...        0.235355   \n",
       "\n",
       "                                                    mean_rank_raw  \\\n",
       "parameter                                                           \n",
       "{\"hidden_size\": 20, \"n_epoch\": 2, \"nectr_n_epoc...     212.769376   \n",
       "\n",
       "                                                               ...               \\\n",
       "parameter                                                      ...                \n",
       "{\"hidden_size\": 20, \"n_epoch\": 2, \"nectr_n_epoc...             ...                \n",
       "\n",
       "                                                    mrr_in_category_filtered  \\\n",
       "parameter                                                                      \n",
       "{\"hidden_size\": 20, \"n_epoch\": 2, \"nectr_n_epoc...                  0.360978   \n",
       "\n",
       "                                                   hits_top10_perc_in_category_filtered  \\\n",
       "parameter                                                                                 \n",
       "{\"hidden_size\": 20, \"n_epoch\": 2, \"nectr_n_epoc...                             0.576262   \n",
       "\n",
       "                                                    hits_top10_in_category_filtered  \\\n",
       "parameter                                                                             \n",
       "{\"hidden_size\": 20, \"n_epoch\": 2, \"nectr_n_epoc...                          0.39157   \n",
       "\n",
       "                                                    mean_rank_in_category_filtered  \\\n",
       "parameter                                                                            \n",
       "{\"hidden_size\": 20, \"n_epoch\": 2, \"nectr_n_epoc...                       20.629762   \n",
       "\n",
       "                                                    median_rank_in_category_filtered  \\\n",
       "parameter                                                                              \n",
       "{\"hidden_size\": 20, \"n_epoch\": 2, \"nectr_n_epoc...                         11.333333   \n",
       "\n",
       "                                                    mrr_in_category_raw  \\\n",
       "parameter                                                                 \n",
       "{\"hidden_size\": 20, \"n_epoch\": 2, \"nectr_n_epoc...             0.360978   \n",
       "\n",
       "                                                    hits_top10_perc_in_category_raw  \\\n",
       "parameter                                                                             \n",
       "{\"hidden_size\": 20, \"n_epoch\": 2, \"nectr_n_epoc...                         0.576262   \n",
       "\n",
       "                                                    hits_top10_in_category_raw  \\\n",
       "parameter                                                                        \n",
       "{\"hidden_size\": 20, \"n_epoch\": 2, \"nectr_n_epoc...                     0.39157   \n",
       "\n",
       "                                                    mean_rank_in_category_raw  \\\n",
       "parameter                                                                       \n",
       "{\"hidden_size\": 20, \"n_epoch\": 2, \"nectr_n_epoc...                  20.629762   \n",
       "\n",
       "                                                    median_rank_in_category_raw  \n",
       "parameter                                                                        \n",
       "{\"hidden_size\": 20, \"n_epoch\": 2, \"nectr_n_epoc...                    11.333333  \n",
       "\n",
       "[1 rows x 22 columns]"
      ]
     },
     "execution_count": 10,
     "metadata": {},
     "output_type": "execute_result"
    }
   ],
   "source": [
    "df_metrics = pd.DataFrame(metrics, columns=['parameter', 'metrics'])\n",
    "df_metrics.index = df_metrics.parameter\n",
    "df_metrics.drop('parameter', axis=1, inplace=True)\n",
    "\n",
    "temp = df_metrics['metrics'].apply(lambda x: pd.Series(x)) \\\n",
    "        .rename(columns={i: names[i] for i in range(len(names))})\n",
    "    \n",
    "df_metrics = pd.concat([df_metrics, temp], axis=1).drop('metrics', axis=1)\n",
    "\n",
    "df_histograms = df_metrics[histograms]\n",
    "df_metrics = df_metrics[df_metrics.columns.difference(histograms)]\n",
    "\n",
    "df_metrics = df_metrics[[\"mrr_filtered\", \"hits_top10_perc_filtered\", \"hits_top10_filtered\", \"mean_rank_filtered\", \n",
    "                         \"median_rank_filtered\", \"recall_filtered\", \"mrr_raw\", \"hits_top10_perc_raw\", \"hits_top10_raw\", \n",
    "                         \"mean_rank_raw\", \n",
    "                         \"median_rank_raw\", \"recall_raw\", \"mrr_in_category_filtered\", \"hits_top10_perc_in_category_filtered\", \n",
    "                         \"hits_top10_in_category_filtered\", \"mean_rank_in_category_filtered\", \n",
    "                         \"median_rank_in_category_filtered\",\"mrr_in_category_raw\", \"hits_top10_perc_in_category_raw\", \n",
    "                         \"hits_top10_in_category_raw\", \"mean_rank_in_category_raw\", \"median_rank_in_category_raw\", ]]\n",
    "\n",
    "df_metrics"
   ]
  },
  {
   "cell_type": "markdown",
   "metadata": {},
   "source": [
    "    3. Extract additional metrics from the histogram info"
   ]
  },
  {
   "cell_type": "code",
   "execution_count": 11,
   "metadata": {},
   "outputs": [],
   "source": [
    "parameters = json.loads(df_metrics.index[0])\n",
    "for i, k in enumerate(parameters.keys()):\n",
    "    df_metrics.insert(i, k, 0)\n",
    "    \n",
    "for index, row in df_metrics.iterrows():\n",
    "    parameters = json.loads(index)\n",
    "    for k in parameters.keys():\n",
    "        df_metrics.loc[index, k] = parameters[k]\n",
    "    \n",
    "    for i in range(1, 11):\n",
    "        df_metrics.loc[index, 'hits_top_' + str(i) + '_perc_filtered'] = \\\n",
    "            df_histograms.loc[index, 'histogram_perc_rank_filtered'][0][:i].sum() / \\\n",
    "            df_histograms.loc[index, 'histogram_perc_rank_filtered'][0].sum()\n",
    "    \n",
    "    for i in range(1, 11):                \n",
    "        df_metrics.loc[index, 'hits_top_' + str(i) + '_num_filtered'] = \\\n",
    "            df_histograms.loc[index, 'histogram_num_rank_filtered'][0][:i+1].sum() / \\\n",
    "            df_histograms.loc[index, 'histogram_num_rank_filtered'][0].sum()\n",
    "    \n",
    "    for i in range(1, 11):\n",
    "        df_metrics.loc[index, 'hits_top_' + str(i) + '_perc_raw'] = \\\n",
    "            df_histograms.loc[index, 'histogram_perc_rank_raw'][0][:i].sum() / \\\n",
    "            df_histograms.loc[index, 'histogram_perc_rank_raw'][0].sum()\n",
    "    \n",
    "    for i in range(1, 11):\n",
    "        df_metrics.loc[index, 'hits_top_' + str(i) + '_num_raw'] = \\\n",
    "            df_histograms.loc[index, 'histogram_num_rank_raw'][0][:i+1].sum() / \\\n",
    "            df_histograms.loc[index, 'histogram_num_rank_raw'][0].sum()"
   ]
  },
  {
   "cell_type": "code",
   "execution_count": 12,
   "metadata": {
    "scrolled": true
   },
   "outputs": [
    {
     "data": {
      "text/html": [
       "<div>\n",
       "<style scoped>\n",
       "    .dataframe tbody tr th:only-of-type {\n",
       "        vertical-align: middle;\n",
       "    }\n",
       "\n",
       "    .dataframe tbody tr th {\n",
       "        vertical-align: top;\n",
       "    }\n",
       "\n",
       "    .dataframe thead th {\n",
       "        text-align: right;\n",
       "    }\n",
       "</style>\n",
       "<table border=\"1\" class=\"dataframe\">\n",
       "  <thead>\n",
       "    <tr style=\"text-align: right;\">\n",
       "      <th></th>\n",
       "      <th>hidden_size</th>\n",
       "      <th>n_epoch</th>\n",
       "      <th>nectr_n_epoch_completion</th>\n",
       "      <th>mrr_filtered</th>\n",
       "      <th>hits_top10_perc_filtered</th>\n",
       "      <th>hits_top10_filtered</th>\n",
       "      <th>mean_rank_filtered</th>\n",
       "      <th>median_rank_filtered</th>\n",
       "      <th>recall_filtered</th>\n",
       "      <th>mrr_raw</th>\n",
       "      <th>...</th>\n",
       "      <th>hits_top_1_num_raw</th>\n",
       "      <th>hits_top_2_num_raw</th>\n",
       "      <th>hits_top_3_num_raw</th>\n",
       "      <th>hits_top_4_num_raw</th>\n",
       "      <th>hits_top_5_num_raw</th>\n",
       "      <th>hits_top_6_num_raw</th>\n",
       "      <th>hits_top_7_num_raw</th>\n",
       "      <th>hits_top_8_num_raw</th>\n",
       "      <th>hits_top_9_num_raw</th>\n",
       "      <th>hits_top_10_num_raw</th>\n",
       "    </tr>\n",
       "    <tr>\n",
       "      <th>parameter</th>\n",
       "      <th></th>\n",
       "      <th></th>\n",
       "      <th></th>\n",
       "      <th></th>\n",
       "      <th></th>\n",
       "      <th></th>\n",
       "      <th></th>\n",
       "      <th></th>\n",
       "      <th></th>\n",
       "      <th></th>\n",
       "      <th></th>\n",
       "      <th></th>\n",
       "      <th></th>\n",
       "      <th></th>\n",
       "      <th></th>\n",
       "      <th></th>\n",
       "      <th></th>\n",
       "      <th></th>\n",
       "      <th></th>\n",
       "      <th></th>\n",
       "      <th></th>\n",
       "    </tr>\n",
       "  </thead>\n",
       "  <tbody>\n",
       "    <tr>\n",
       "      <th>{\"hidden_size\": 20, \"n_epoch\": 2, \"nectr_n_epoch_completion\": 2}</th>\n",
       "      <td>20</td>\n",
       "      <td>2</td>\n",
       "      <td>2</td>\n",
       "      <td>0.179406</td>\n",
       "      <td>0.813505</td>\n",
       "      <td>0.277849</td>\n",
       "      <td>205.451441</td>\n",
       "      <td>46.0</td>\n",
       "      <td>[0.5222244482673601, 0.6289308648283302, 0.701...</td>\n",
       "      <td>0.115913</td>\n",
       "      <td>...</td>\n",
       "      <td>0.052473</td>\n",
       "      <td>0.090753</td>\n",
       "      <td>0.123527</td>\n",
       "      <td>0.144946</td>\n",
       "      <td>0.160172</td>\n",
       "      <td>0.176688</td>\n",
       "      <td>0.194581</td>\n",
       "      <td>0.209978</td>\n",
       "      <td>0.22357</td>\n",
       "      <td>0.235355</td>\n",
       "    </tr>\n",
       "  </tbody>\n",
       "</table>\n",
       "<p>1 rows × 65 columns</p>\n",
       "</div>"
      ],
      "text/plain": [
       "                                                    hidden_size  n_epoch  \\\n",
       "parameter                                                                  \n",
       "{\"hidden_size\": 20, \"n_epoch\": 2, \"nectr_n_epoc...           20        2   \n",
       "\n",
       "                                                    nectr_n_epoch_completion  \\\n",
       "parameter                                                                      \n",
       "{\"hidden_size\": 20, \"n_epoch\": 2, \"nectr_n_epoc...                         2   \n",
       "\n",
       "                                                    mrr_filtered  \\\n",
       "parameter                                                          \n",
       "{\"hidden_size\": 20, \"n_epoch\": 2, \"nectr_n_epoc...      0.179406   \n",
       "\n",
       "                                                    hits_top10_perc_filtered  \\\n",
       "parameter                                                                      \n",
       "{\"hidden_size\": 20, \"n_epoch\": 2, \"nectr_n_epoc...                  0.813505   \n",
       "\n",
       "                                                    hits_top10_filtered  \\\n",
       "parameter                                                                 \n",
       "{\"hidden_size\": 20, \"n_epoch\": 2, \"nectr_n_epoc...             0.277849   \n",
       "\n",
       "                                                    mean_rank_filtered  \\\n",
       "parameter                                                                \n",
       "{\"hidden_size\": 20, \"n_epoch\": 2, \"nectr_n_epoc...          205.451441   \n",
       "\n",
       "                                                    median_rank_filtered  \\\n",
       "parameter                                                                  \n",
       "{\"hidden_size\": 20, \"n_epoch\": 2, \"nectr_n_epoc...                  46.0   \n",
       "\n",
       "                                                                                      recall_filtered  \\\n",
       "parameter                                                                                               \n",
       "{\"hidden_size\": 20, \"n_epoch\": 2, \"nectr_n_epoc...  [0.5222244482673601, 0.6289308648283302, 0.701...   \n",
       "\n",
       "                                                     mrr_raw  \\\n",
       "parameter                                                      \n",
       "{\"hidden_size\": 20, \"n_epoch\": 2, \"nectr_n_epoc...  0.115913   \n",
       "\n",
       "                                                           ...           \\\n",
       "parameter                                                  ...            \n",
       "{\"hidden_size\": 20, \"n_epoch\": 2, \"nectr_n_epoc...         ...            \n",
       "\n",
       "                                                    hits_top_1_num_raw  \\\n",
       "parameter                                                                \n",
       "{\"hidden_size\": 20, \"n_epoch\": 2, \"nectr_n_epoc...            0.052473   \n",
       "\n",
       "                                                    hits_top_2_num_raw  \\\n",
       "parameter                                                                \n",
       "{\"hidden_size\": 20, \"n_epoch\": 2, \"nectr_n_epoc...            0.090753   \n",
       "\n",
       "                                                    hits_top_3_num_raw  \\\n",
       "parameter                                                                \n",
       "{\"hidden_size\": 20, \"n_epoch\": 2, \"nectr_n_epoc...            0.123527   \n",
       "\n",
       "                                                    hits_top_4_num_raw  \\\n",
       "parameter                                                                \n",
       "{\"hidden_size\": 20, \"n_epoch\": 2, \"nectr_n_epoc...            0.144946   \n",
       "\n",
       "                                                   hits_top_5_num_raw  \\\n",
       "parameter                                                               \n",
       "{\"hidden_size\": 20, \"n_epoch\": 2, \"nectr_n_epoc...           0.160172   \n",
       "\n",
       "                                                    hits_top_6_num_raw  \\\n",
       "parameter                                                                \n",
       "{\"hidden_size\": 20, \"n_epoch\": 2, \"nectr_n_epoc...            0.176688   \n",
       "\n",
       "                                                    hits_top_7_num_raw  \\\n",
       "parameter                                                                \n",
       "{\"hidden_size\": 20, \"n_epoch\": 2, \"nectr_n_epoc...            0.194581   \n",
       "\n",
       "                                                    hits_top_8_num_raw  \\\n",
       "parameter                                                                \n",
       "{\"hidden_size\": 20, \"n_epoch\": 2, \"nectr_n_epoc...            0.209978   \n",
       "\n",
       "                                                    hits_top_9_num_raw  \\\n",
       "parameter                                                                \n",
       "{\"hidden_size\": 20, \"n_epoch\": 2, \"nectr_n_epoc...             0.22357   \n",
       "\n",
       "                                                    hits_top_10_num_raw  \n",
       "parameter                                                                \n",
       "{\"hidden_size\": 20, \"n_epoch\": 2, \"nectr_n_epoc...             0.235355  \n",
       "\n",
       "[1 rows x 65 columns]"
      ]
     },
     "execution_count": 12,
     "metadata": {},
     "output_type": "execute_result"
    }
   ],
   "source": [
    "df_metrics"
   ]
  },
  {
   "cell_type": "markdown",
   "metadata": {},
   "source": [
    "    4. Store the results"
   ]
  },
  {
   "cell_type": "code",
   "execution_count": 13,
   "metadata": {},
   "outputs": [],
   "source": [
    "df_metrics.T.to_csv(PATH_TO_RESULTS + 'NECTR_results.csv', sep=';')"
   ]
  },
  {
   "cell_type": "markdown",
   "metadata": {},
   "source": [
    "### Visualization of embeddings"
   ]
  },
  {
   "cell_type": "code",
   "execution_count": 14,
   "metadata": {},
   "outputs": [
    {
     "data": {
      "text/plain": [
       "8"
      ]
     },
     "execution_count": 14,
     "metadata": {},
     "output_type": "execute_result"
    }
   ],
   "source": [
    "categories = pd.read_csv(PATH_TO_DATA + 'Categories.csv', sep=';')\n",
    "display_categories = {'EnergyMeter': 'EnergyMeter', 'IPC': 'IPC', 'IoSystem': 'IoSystem', 'Panel': 'Panel', \n",
    "                      'PowerSupplie': 'PowerSupply', 'Software': 'Software', 'Steuerungen': 'Controller', 'Switche': 'Switch',\n",
    "                     'CablesAndPlugs': 'CableAndPlug', 'IndustrialCommunication': 'IndustrialCommunication',\n",
    "                     'IndustrialControls': 'IndustrialControl', 'IoSystems': 'IoSystem', 'Controller': 'Controller', \n",
    "                      'Ipc': 'IPC'}\n",
    "\n",
    "def get_category_display_name(x):\n",
    "    return display_categories[x]\n",
    "\n",
    "categories['category'] = categories['category'].apply(lambda x: get_category_display_name(x))\n",
    "temp = categories.apply(lambda x: {int(i): x.name for i in x['entity_id'].split(',')}, axis=1).values.tolist()\n",
    "item2cat = {k: v for i in temp for k, v in i.items()}\n",
    "len(categories)"
   ]
  },
  {
   "cell_type": "code",
   "execution_count": 15,
   "metadata": {},
   "outputs": [],
   "source": [
    "def get_category(row):\n",
    "    if row['type'] == 'item' and row['id'] in item2cat:\n",
    "        return categories.iloc[item2cat[int(row['id'])]]['category']\n",
    "    else:\n",
    "        return 'Unknown'"
   ]
  },
  {
   "cell_type": "markdown",
   "metadata": {},
   "source": [
    "    1. Load the entity embeddings"
   ]
  },
  {
   "cell_type": "code",
   "execution_count": 16,
   "metadata": {
    "scrolled": true
   },
   "outputs": [
    {
     "name": "stdout",
     "output_type": "stream",
     "text": [
      "entity_embeddings (3003, 25)\n"
     ]
    }
   ],
   "source": [
    "with open(PATH_TO_RESULTS + 'NECTR_RecommenderSystem.pickle', 'rb') as fp:\n",
    "    data = pickle.load(fp, encoding='latin1')\n",
    "\n",
    "df_entity2id, entity_embeddings = data['entity2id'], data['item_embeddings']\n",
    "df_entity2id['category'] = df_entity2id.apply(lambda row: get_category(row), axis=1)\n",
    "\n",
    "print('entity_embeddings', entity_embeddings.shape)"
   ]
  },
  {
   "cell_type": "markdown",
   "metadata": {},
   "source": [
    "    2. Extract the item embeddings"
   ]
  },
  {
   "cell_type": "code",
   "execution_count": 17,
   "metadata": {},
   "outputs": [
    {
     "name": "stdout",
     "output_type": "stream",
     "text": [
      "item_embeddings (355, 25)\n"
     ]
    }
   ],
   "source": [
    "items = df_entity2id[(df_entity2id['category'] != 'Unknown')]\n",
    "item_embeddings = entity_embeddings[items.index.tolist()]\n",
    "\n",
    "print('item_embeddings', item_embeddings.shape)"
   ]
  },
  {
   "cell_type": "markdown",
   "metadata": {},
   "source": [
    "    3. Apply PCA to reduce the embeddings to 2 dimensions. \n",
    "\n",
    "Other dimensionality reduction techniques, such as t-SNE, may also be applied and the results may be visualized in a similar fashion. "
   ]
  },
  {
   "cell_type": "code",
   "execution_count": 18,
   "metadata": {},
   "outputs": [
    {
     "data": {
      "text/plain": [
       "(355, 2)"
      ]
     },
     "execution_count": 18,
     "metadata": {},
     "output_type": "execute_result"
    }
   ],
   "source": [
    "pca = PCA(n_components=2)\n",
    "embeddings_2d = pca.fit_transform(item_embeddings)\n",
    "embeddings_2d.shape"
   ]
  },
  {
   "cell_type": "markdown",
   "metadata": {},
   "source": [
    "    4. Plot a scatter plot of the items colored by category. \n",
    "\n",
    "It can be seen that the items form clusters based on their categories."
   ]
  },
  {
   "cell_type": "code",
   "execution_count": 19,
   "metadata": {
    "scrolled": false
   },
   "outputs": [
    {
     "data": {
      "image/png": "[encoded data removed]",
      "text/plain": [
       "<Figure size 432x288 with 1 Axes>"
      ]
     },
     "metadata": {
      "needs_background": "light"
     },
     "output_type": "display_data"
    }
   ],
   "source": [
    "x = embeddings_2d[:, 0]\n",
    "y = embeddings_2d[:, 1]\n",
    "classes = items['category'].tolist()\n",
    "unique = list(set(classes))\n",
    "colors = [plt.cm.jet(float(i+1)/len(unique)) for i,_ in enumerate(unique)]\n",
    "\n",
    "temp = []\n",
    "for i, u in enumerate(unique):\n",
    "    xi = [x[j] for j  in range(len(x)) if classes[j] == u]\n",
    "    yi = [y[j] for j  in range(len(x)) if classes[j] == u]\n",
    "    plt.scatter(xi, yi, c=colors[i], label=str(u))\n",
    "    \n",
    "    temp += list(zip(xi, yi, itertools.repeat(str(u))))\n",
    "    \n",
    "plt.legend(loc='center left', bbox_to_anchor=(1, 0.5), fontsize='x-large')\n",
    "plt.title('Items by Category', fontweight='bold')\n",
    "# plt.savefig('items_by_category.png', bbox_inches='tight')\n",
    "plt.show()\n",
    "plt.close()\n",
    "\n",
    "with open(PATH_TO_RESULTS + 'items_by_category.csv', 'w', newline='') as fp:\n",
    "    writer = csv.writer(fp, delimiter=' ')\n",
    "    writer.writerow(['x', 'y', 'label'])\n",
    "    writer.writerows(temp)"
   ]
  },
  {
   "cell_type": "code",
   "execution_count": null,
   "metadata": {},
   "outputs": [],
   "source": []
  }
 ],
 "metadata": {
  "kernelspec": {
   "display_name": "Python 3",
   "language": "python",
   "name": "python3"
  },
  "language_info": {
   "codemirror_mode": {
    "name": "ipython",
    "version": 3
   },
   "file_extension": ".py",
   "mimetype": "text/x-python",
   "name": "python",
   "nbconvert_exporter": "python",
   "pygments_lexer": "ipython3",
   "version": "3.6.6"
  }
 },
 "nbformat": 4,
 "nbformat_minor": 2
}
